{
 "cells": [
  {
   "cell_type": "markdown",
   "metadata": {},
   "source": [
    "## MY WORKSHOP SOLUTIONS"
   ]
  },
  {
   "cell_type": "markdown",
   "metadata": {},
   "source": [
    "### EXERCISE 1"
   ]
  },
  {
   "cell_type": "code",
   "execution_count": 1,
   "metadata": {},
   "outputs": [],
   "source": [
    "from pprint import pprint # for printing data structures in a prettier way\n",
    "import csv"
   ]
  },
  {
   "cell_type": "markdown",
   "metadata": {},
   "source": [
    "#### My Approach"
   ]
  },
  {
   "cell_type": "code",
   "execution_count": 2,
   "metadata": {},
   "outputs": [
    {
     "name": "stdout",
     "output_type": "stream",
     "text": [
      "[['22', ' -.59.1-46.12-7.9.45.9.-614.2-3'],\n",
      " ['3', ' 8-.132.85-5.-3-79-49.6-68.1'],\n",
      " ['16', ' 68-13.74.581-24-941-2'],\n",
      " ['4', ' 97-236.1.712.2-543-81.4'],\n",
      " ['13', ' 5.921.3-.59-78-6.26.324.7'],\n",
      " ['7', ' 819.293.1-2..83.4.56.8'],\n",
      " ['1', ' 23--.8.27.3-4.82.6-.86-632-45.'],\n",
      " ['19', ' 98-159-.49.1.53-1-8.-67'],\n",
      " ['25', ' 1-547.-98.5.17-572-62'],\n",
      " ['0', ' .9-76.-8.-46-.8.27-.-346-.9-73'],\n",
      " ['14', ' 6.9.3-85-645.69-4.8.56'],\n",
      " ['11', ' 3.9.785..92.38.5-7-354'],\n",
      " ['6', ' 2.95-9.3-.51.89.5-7.55.63'],\n",
      " ['20', ' 75.2-4.56.-834-.49-87-43']]\n"
     ]
    }
   ],
   "source": [
    "transmissions_list = []\n",
    "\n",
    "with open('transmissions.csv', 'r') as csv_file:\n",
    "    csv_reader = csv.reader(csv_file)\n",
    "\n",
    "    next(csv_reader)\n",
    "\n",
    "    for line in csv_reader:\n",
    "        transmissions_list.append(line)\n",
    "\n",
    "pprint(transmissions_list)"
   ]
  },
  {
   "cell_type": "markdown",
   "metadata": {},
   "source": [
    "#### Their Approach"
   ]
  },
  {
   "cell_type": "code",
   "execution_count": 3,
   "metadata": {},
   "outputs": [],
   "source": [
    "# from pprint import pprint # for printing data structures in a prettier way\n",
    "\n",
    "# transmissions = []\n",
    "# with open(\"transmissions.csv\") as file:\n",
    "#     for line in file:\n",
    "#         line = line.strip()\n",
    "#         transmissions.append(line.split(\",\"))\n",
    "# pprint(transmissions)"
   ]
  },
  {
   "cell_type": "markdown",
   "metadata": {},
   "source": [
    "#### Another Approach\n"
   ]
  },
  {
   "cell_type": "code",
   "execution_count": 4,
   "metadata": {},
   "outputs": [],
   "source": [
    "# with open('transmissions.csv', newline='') as transmission_file: \n",
    "#     reader = csv.reader(transmission_file) \n",
    "#     ids = [] \n",
    "#     transmissions = [] \n",
    "\n",
    "#     for row in reader: \n",
    "#         id = row[0] \n",
    "#         transmission = row[1] \n",
    "#         ids.append(id) \n",
    "#         transmissions.append(transmission)\n",
    "#     print(ids)"
   ]
  },
  {
   "cell_type": "markdown",
   "metadata": {},
   "source": [
    "### EXERCISE 2"
   ]
  },
  {
   "cell_type": "markdown",
   "metadata": {},
   "source": [
    "#### My Approach"
   ]
  },
  {
   "cell_type": "markdown",
   "metadata": {},
   "source": [
    "Loop through the list and try convert each of the characters inside of the tranmsmission string into integers, IF it returns some sort of error, simple ignore it and go to the next."
   ]
  },
  {
   "cell_type": "code",
   "execution_count": 5,
   "metadata": {},
   "outputs": [
    {
     "name": "stdout",
     "output_type": "stream",
     "text": [
      "[['22', ' -.59.1-46.12-7.9.45.9.-614.2-3', 'Sum of all integers : 78'], ['3', ' 8-.132.85-5.-3-79-49.6-68.1', 'Sum of all integers : 85'], ['16', ' 68-13.74.581-24-941-2', 'Sum of all integers : 65'], ['4', ' 97-236.1.712.2-543-81.4', 'Sum of all integers : 65'], ['13', ' 5.921.3-.59-78-6.26.324.7', 'Sum of all integers : 79'], ['7', ' 819.293.1-2..83.4.56.8', 'Sum of all integers : 69'], ['1', ' 23--.8.27.3-4.82.6-.86-632-45.', 'Sum of all integers : 79'], ['19', ' 98-159-.49.1.53-1-8.-67', 'Sum of all integers : 76'], ['25', ' 1-547.-98.5.17-572-62', 'Sum of all integers : 69'], ['0', ' .9-76.-8.-46-.8.27-.-346-.9-73', 'Sum of all integers : 89'], ['14', ' 6.9.3-85-645.69-4.8.56', 'Sum of all integers : 84'], ['11', ' 3.9.785..92.38.5-7-354', 'Sum of all integers : 78'], ['6', ' 2.95-9.3-.51.89.5-7.55.63', 'Sum of all integers : 82'], ['20', ' 75.2-4.56.-834-.49-87-43', 'Sum of all integers : 79']]\n",
      "[78, 85, 65, 65, 79, 69, 79, 76, 69, 89, 84, 78, 82, 79]\n",
      "[22, 3, 16, 4, 13, 7, 1, 19, 25, 0, 14, 11, 6, 20]\n",
      "[0, 1, 3, 4, 6, 7, 11, 13, 14, 16, 19, 20, 22, 25]\n"
     ]
    }
   ],
   "source": [
    "seperate_sums_list = []\n",
    "id_list = []\n",
    "ordered_id_list = []\n",
    "\n",
    "for pair in transmissions_list:\n",
    "    sum = 0\n",
    "    for character in pair[1]:\n",
    "        try:\n",
    "            sum += int(character)\n",
    "        except ValueError:\n",
    "            pass\n",
    "    pair.append(f'Sum of all integers : {sum}')\n",
    "    seperate_sums_list.append(sum)\n",
    "    id_list.append(int(pair[0]))\n",
    "    ordered_id_list.append(int(pair[0]))\n",
    "\n",
    "\n",
    "ordered_id_list.sort()\n",
    "\n",
    "print(transmissions_list)\n",
    "print(seperate_sums_list)\n",
    "print(id_list)\n",
    "print(ordered_id_list)"
   ]
  },
  {
   "cell_type": "markdown",
   "metadata": {},
   "source": [
    "#### Their Approach"
   ]
  },
  {
   "cell_type": "code",
   "execution_count": 6,
   "metadata": {},
   "outputs": [],
   "source": [
    "# transmissions.pop(0)\n",
    "# ids = [row[0] for row in transmissions]\n",
    "# transmissions = [row[1] for row in transmissions]\n",
    "# sums = []\n",
    "# for t in transmissions:\n",
    "#     current_sum = 0\n",
    "#     for char in t:\n",
    "#         try:\n",
    "#             current_sum += int(char)\n",
    "#         except:\n",
    "#             continue\n",
    "#     sums.append(current_sum)\n",
    "# print(sums)"
   ]
  },
  {
   "cell_type": "markdown",
   "metadata": {},
   "source": [
    "### EXERCISE 3"
   ]
  },
  {
   "cell_type": "markdown",
   "metadata": {},
   "source": [
    "#### My Approach"
   ]
  },
  {
   "cell_type": "code",
   "execution_count": 7,
   "metadata": {},
   "outputs": [
    {
     "name": "stdout",
     "output_type": "stream",
     "text": [
      "[9, 6, 1, 3, 12, 5, 11, 4, 10, 2, 7, 13, 0, 8]\n",
      "YOUARENOTALONE\n"
     ]
    }
   ],
   "source": [
    "ordered_id_index = []\n",
    "\n",
    "for id in ordered_id_list:\n",
    "    ordered_id_index.append(id_list.index(id))\n",
    "    \n",
    "print(ordered_id_index)\n",
    "\n",
    "message = \"\"\n",
    "for index in ordered_id_index:\n",
    "    message += chr(seperate_sums_list[index])\n",
    "    \n",
    "print(message.upper())"
   ]
  },
  {
   "cell_type": "markdown",
   "metadata": {},
   "source": [
    "#### Their Approach"
   ]
  },
  {
   "cell_type": "code",
   "execution_count": 8,
   "metadata": {},
   "outputs": [],
   "source": [
    "# freq_dict = {int(ids[i]):sums[i] for i in range(len(ids))}\n",
    "# freq_tuples = sorted(freq_dict.items())\n",
    "# message = \"\"\n",
    "# for item in freq_tuples:\n",
    "#     message += chr(item[1])\n",
    "# print(message)"
   ]
  }
 ],
 "metadata": {
  "interpreter": {
   "hash": "67844d058eea01053788823fe9b322d42b1c91ad9d1fe157fcecde733d9dd7ce"
  },
  "kernelspec": {
   "display_name": "Python 3.9.5 ('env': venv)",
   "language": "python",
   "name": "python3"
  },
  "language_info": {
   "codemirror_mode": {
    "name": "ipython",
    "version": 3
   },
   "file_extension": ".py",
   "mimetype": "text/x-python",
   "name": "python",
   "nbconvert_exporter": "python",
   "pygments_lexer": "ipython3",
   "version": "3.9.5"
  },
  "orig_nbformat": 4
 },
 "nbformat": 4,
 "nbformat_minor": 2
}
