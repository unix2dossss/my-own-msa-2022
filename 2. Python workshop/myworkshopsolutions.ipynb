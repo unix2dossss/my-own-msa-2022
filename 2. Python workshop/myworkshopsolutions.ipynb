{
 "cells": [
  {
   "cell_type": "markdown",
   "metadata": {},
   "source": [
    "## MY WORKSHOP SOLUTIONS"
   ]
  },
  {
   "cell_type": "markdown",
   "metadata": {},
   "source": [
    "### EXERCISE 1"
   ]
  },
  {
   "cell_type": "code",
   "execution_count": 5,
   "metadata": {},
   "outputs": [],
   "source": [
    "from pprint import pprint # for printing data structures in a prettier way\n",
    "import csv"
   ]
  },
  {
   "cell_type": "markdown",
   "metadata": {},
   "source": [
    "#### My Approach"
   ]
  },
  {
   "cell_type": "code",
   "execution_count": 6,
   "metadata": {},
   "outputs": [],
   "source": [
    "transmissions_list = []\n",
    "\n",
    "with open('transmissions.csv', 'r') as csv_file:\n",
    "    csv_reader = csv.reader(csv_file)\n",
    "\n",
    "    next(csv_reader)\n",
    "\n",
    "    for line in csv_reader:\n",
    "        transmissions_list.append(line)\n",
    "\n",
    "pprint(transmissions_list)"
   ]
  },
  {
   "cell_type": "markdown",
   "metadata": {},
   "source": [
    "#### Their Approach"
   ]
  },
  {
   "cell_type": "code",
   "execution_count": 7,
   "metadata": {},
   "outputs": [],
   "source": [
    "# from pprint import pprint # for printing data structures in a prettier way\n",
    "\n",
    "# transmissions = []\n",
    "# with open(\"transmissions.csv\") as file:\n",
    "#     for line in file:\n",
    "#         line = line.strip()\n",
    "#         transmissions.append(line.split(\",\"))\n",
    "# pprint(transmissions)"
   ]
  },
  {
   "cell_type": "markdown",
   "metadata": {},
   "source": [
    "#### Another Approach\n"
   ]
  },
  {
   "cell_type": "code",
   "execution_count": 8,
   "metadata": {},
   "outputs": [
    {
     "name": "stdout",
     "output_type": "stream",
     "text": [
      "['id', '22', '3', '16', '4', '13', '7', '1', '19', '25', '0', '14', '11', '6', '20']\n"
     ]
    }
   ],
   "source": [
    "# with open('transmissions.csv', newline='') as transmission_file: \n",
    "#     reader = csv.reader(transmission_file) \n",
    "#     ids = [] \n",
    "#     transmissions = [] \n",
    "\n",
    "#     for row in reader: \n",
    "#         id = row[0] \n",
    "#         transmission = row[1] \n",
    "#         ids.append(id) \n",
    "#         transmissions.append(transmission)\n",
    "#     print(ids)"
   ]
  },
  {
   "cell_type": "markdown",
   "metadata": {},
   "source": [
    "### EXERCISE 2"
   ]
  },
  {
   "cell_type": "markdown",
   "metadata": {},
   "source": [
    "#### My Approach"
   ]
  },
  {
   "cell_type": "markdown",
   "metadata": {},
   "source": [
    "Loop through the list and try convert each of the characters inside of the tranmsmission string into integers, IF it returns some sort of error, simple ignore it and go to the next."
   ]
  },
  {
   "cell_type": "code",
   "execution_count": 9,
   "metadata": {},
   "outputs": [
    {
     "ename": "NameError",
     "evalue": "name 'transmissions_list' is not defined",
     "output_type": "error",
     "traceback": [
      "\u001b[0;31m---------------------------------------------------------------------------\u001b[0m",
      "\u001b[0;31mNameError\u001b[0m                                 Traceback (most recent call last)",
      "\u001b[1;32m/home/unix2dos/Desktop/my-own-msa-2022/2. Python workshop/myworkshopsolutions.ipynb Cell 13'\u001b[0m in \u001b[0;36m<cell line: 5>\u001b[0;34m()\u001b[0m\n\u001b[1;32m      <a href='vscode-notebook-cell:/home/unix2dos/Desktop/my-own-msa-2022/2.%20Python%20workshop/myworkshopsolutions.ipynb#ch0000010?line=1'>2</a>\u001b[0m id_list \u001b[39m=\u001b[39m []\n\u001b[1;32m      <a href='vscode-notebook-cell:/home/unix2dos/Desktop/my-own-msa-2022/2.%20Python%20workshop/myworkshopsolutions.ipynb#ch0000010?line=2'>3</a>\u001b[0m ordered_id_list \u001b[39m=\u001b[39m []\n\u001b[0;32m----> <a href='vscode-notebook-cell:/home/unix2dos/Desktop/my-own-msa-2022/2.%20Python%20workshop/myworkshopsolutions.ipynb#ch0000010?line=4'>5</a>\u001b[0m \u001b[39mfor\u001b[39;00m pair \u001b[39min\u001b[39;00m transmissions_list:\n\u001b[1;32m      <a href='vscode-notebook-cell:/home/unix2dos/Desktop/my-own-msa-2022/2.%20Python%20workshop/myworkshopsolutions.ipynb#ch0000010?line=5'>6</a>\u001b[0m     \u001b[39msum\u001b[39m \u001b[39m=\u001b[39m \u001b[39m0\u001b[39m\n\u001b[1;32m      <a href='vscode-notebook-cell:/home/unix2dos/Desktop/my-own-msa-2022/2.%20Python%20workshop/myworkshopsolutions.ipynb#ch0000010?line=6'>7</a>\u001b[0m     \u001b[39mfor\u001b[39;00m character \u001b[39min\u001b[39;00m pair[\u001b[39m1\u001b[39m]:\n",
      "\u001b[0;31mNameError\u001b[0m: name 'transmissions_list' is not defined"
     ]
    }
   ],
   "source": [
    "seperate_sums_list = []\n",
    "id_list = []\n",
    "ordered_id_list = []\n",
    "\n",
    "for pair in transmissions_list:\n",
    "    sum = 0\n",
    "    for character in pair[1]:\n",
    "        try:\n",
    "            sum += int(character)\n",
    "        except ValueError:\n",
    "            pass\n",
    "    pair.append(f'Sum of all integers : {sum}')\n",
    "    seperate_sums_list.append(sum)\n",
    "    id_list.append(int(pair[0]))\n",
    "    ordered_id_list.append(int(pair[0]))\n",
    "\n",
    "\n",
    "ordered_id_list.sort()\n",
    "\n",
    "print(transmissions_list)\n",
    "print(seperate_sums_list)\n",
    "print(id_list)\n",
    "print(ordered_id_list)"
   ]
  },
  {
   "cell_type": "markdown",
   "metadata": {},
   "source": [
    "#### Their Approach"
   ]
  },
  {
   "cell_type": "code",
   "execution_count": null,
   "metadata": {},
   "outputs": [],
   "source": [
    "# transmissions.pop(0)\n",
    "# ids = [row[0] for row in transmissions]\n",
    "# transmissions = [row[1] for row in transmissions]\n",
    "# sums = []\n",
    "# for t in transmissions:\n",
    "#     current_sum = 0\n",
    "#     for char in t:\n",
    "#         try:\n",
    "#             current_sum += int(char)\n",
    "#         except:\n",
    "#             continue\n",
    "#     sums.append(current_sum)\n",
    "# print(sums)"
   ]
  },
  {
   "cell_type": "markdown",
   "metadata": {},
   "source": [
    "### EXERCISE 3"
   ]
  },
  {
   "cell_type": "markdown",
   "metadata": {},
   "source": [
    "#### My Approach"
   ]
  },
  {
   "cell_type": "code",
   "execution_count": null,
   "metadata": {},
   "outputs": [
    {
     "name": "stdout",
     "output_type": "stream",
     "text": [
      "[9, 6, 1, 3, 12, 5, 11, 4, 10, 2, 7, 13, 0, 8]\n",
      "YOUARENOTALONE\n"
     ]
    }
   ],
   "source": [
    "ordered_id_index = []\n",
    "\n",
    "for id in ordered_id_list:\n",
    "    ordered_id_index.append(id_list.index(id))\n",
    "    \n",
    "print(ordered_id_index)\n",
    "\n",
    "message = \"\"\n",
    "for index in ordered_id_index:\n",
    "    message += chr(seperate_sums_list[index])\n",
    "    \n",
    "print(message.upper())"
   ]
  },
  {
   "cell_type": "markdown",
   "metadata": {},
   "source": [
    "#### Their Approach"
   ]
  },
  {
   "cell_type": "code",
   "execution_count": null,
   "metadata": {},
   "outputs": [],
   "source": [
    "# freq_dict = {int(ids[i]):sums[i] for i in range(len(ids))}\n",
    "# freq_tuples = sorted(freq_dict.items())\n",
    "# message = \"\"\n",
    "# for item in freq_tuples:\n",
    "#     message += chr(item[1])\n",
    "# print(message)"
   ]
  }
 ],
 "metadata": {
  "interpreter": {
   "hash": "67844d058eea01053788823fe9b322d42b1c91ad9d1fe157fcecde733d9dd7ce"
  },
  "kernelspec": {
   "display_name": "Python 3.9.5 ('env': venv)",
   "language": "python",
   "name": "python3"
  },
  "language_info": {
   "codemirror_mode": {
    "name": "ipython",
    "version": 3
   },
   "file_extension": ".py",
   "mimetype": "text/x-python",
   "name": "python",
   "nbconvert_exporter": "python",
   "pygments_lexer": "ipython3",
   "version": "3.9.5"
  },
  "orig_nbformat": 4
 },
 "nbformat": 4,
 "nbformat_minor": 2
}
